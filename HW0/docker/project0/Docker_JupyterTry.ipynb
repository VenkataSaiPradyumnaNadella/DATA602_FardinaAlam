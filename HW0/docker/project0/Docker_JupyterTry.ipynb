{
 "cells": [
  {
   "cell_type": "markdown",
   "id": "432fc231-8099-4fd4-b99d-3eaf91b6bc69",
   "metadata": {},
   "source": [
    "### Name : Venkata Sai Pradyumna Nadella\n",
    "### UID  : 122096059 "
   ]
  },
  {
   "cell_type": "code",
   "execution_count": 1,
   "id": "0d523ba6-eebe-48be-bd25-6b3fa82ca7b3",
   "metadata": {},
   "outputs": [
    {
     "name": "stdout",
     "output_type": "stream",
     "text": [
      "The container is runnign and a jupyter lab instance is active\n"
     ]
    }
   ],
   "source": [
    "print(\"The container is runnign and a jupyter lab instance is active\")"
   ]
  },
  {
   "cell_type": "code",
   "execution_count": 2,
   "id": "8e5eac19-9d22-47f7-bc41-746b70f38e92",
   "metadata": {},
   "outputs": [
    {
     "name": "stdout",
     "output_type": "stream",
     "text": [
      "This ipynb file is created in the notebooks folder\n"
     ]
    }
   ],
   "source": [
    "print(\"This ipynb file is created in the notebooks folder\")"
   ]
  },
  {
   "cell_type": "code",
   "execution_count": null,
   "id": "dbf89893-c616-4ad6-b38b-3a7d88a5f12c",
   "metadata": {},
   "outputs": [],
   "source": []
  }
 ],
 "metadata": {
  "kernelspec": {
   "display_name": "Python 3 (ipykernel)",
   "language": "python",
   "name": "python3"
  },
  "language_info": {
   "codemirror_mode": {
    "name": "ipython",
    "version": 3
   },
   "file_extension": ".py",
   "mimetype": "text/x-python",
   "name": "python",
   "nbconvert_exporter": "python",
   "pygments_lexer": "ipython3",
   "version": "3.9.7"
  }
 },
 "nbformat": 4,
 "nbformat_minor": 5
}
